{
  "nbformat": 4,
  "nbformat_minor": 0,
  "metadata": {
    "colab": {
      "provenance": [],
      "authorship_tag": "ABX9TyPucnxvS1c3NTa8lIAz3Wpw",
      "include_colab_link": true
    },
    "kernelspec": {
      "name": "python3",
      "display_name": "Python 3"
    },
    "language_info": {
      "name": "python"
    }
  },
  "cells": [
    {
      "cell_type": "markdown",
      "metadata": {
        "id": "view-in-github",
        "colab_type": "text"
      },
      "source": [
        "<a href=\"https://colab.research.google.com/github/astrawth/wip-technical-discussion/blob/main/technical_docs.ipynb\" target=\"_parent\"><img src=\"https://colab.research.google.com/assets/colab-badge.svg\" alt=\"Open In Colab\"/></a>"
      ]
    },
    {
      "cell_type": "markdown",
      "source": [
        "## Ingest"
      ],
      "metadata": {
        "id": "GmJtCAnBatEf"
      }
    },
    {
      "cell_type": "code",
      "execution_count": 1,
      "metadata": {
        "colab": {
          "base_uri": "https://localhost:8080/",
          "height": 35
        },
        "id": "kayKIr7vZ_r8",
        "outputId": "1bf26c41-9de7-4d5b-fe2f-b310c35af293"
      },
      "outputs": [
        {
          "output_type": "execute_result",
          "data": {
            "text/plain": [
              "'hi'"
            ],
            "application/vnd.google.colaboratory.intrinsic+json": {
              "type": "string"
            }
          },
          "metadata": {},
          "execution_count": 1
        }
      ],
      "source": [
        " def hello():\n",
        "   return \"hi\"\n",
        " hello()"
      ]
    },
    {
      "cell_type": "markdown",
      "source": [
        "## EDA exploratory data analysis\n",
        "\n",
        "### markdown header\n",
        "  * one\n",
        "  * two\n",
        "  * three\n"
      ],
      "metadata": {
        "id": "bfugeb7qaxo4"
      }
    },
    {
      "cell_type": "code",
      "source": [],
      "metadata": {
        "id": "fOQogK32aaAR"
      },
      "execution_count": null,
      "outputs": []
    },
    {
      "cell_type": "markdown",
      "source": [
        "## Modeling"
      ],
      "metadata": {
        "id": "o01OLRyRa6OH"
      }
    },
    {
      "cell_type": "markdown",
      "source": [
        "## Conclusion"
      ],
      "metadata": {
        "id": "w0ch7ZuCa82T"
      }
    }
  ]
}